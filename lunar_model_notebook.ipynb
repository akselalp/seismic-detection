{
 "cells": [
  {
   "cell_type": "markdown",
   "metadata": {},
   "source": [
    "### Imports"
   ]
  },
  {
   "cell_type": "code",
   "execution_count": 1,
   "metadata": {},
   "outputs": [
    {
     "ename": "ModuleNotFoundError",
     "evalue": "No module named 'tensorflow'",
     "output_type": "error",
     "traceback": [
      "\u001b[0;31m---------------------------------------------------------------------------\u001b[0m",
      "\u001b[0;31mModuleNotFoundError\u001b[0m                       Traceback (most recent call last)",
      "Cell \u001b[0;32mIn[1], line 6\u001b[0m\n\u001b[1;32m      4\u001b[0m \u001b[38;5;28;01mimport\u001b[39;00m \u001b[38;5;21;01mpandas\u001b[39;00m \u001b[38;5;28;01mas\u001b[39;00m \u001b[38;5;21;01mpd\u001b[39;00m\n\u001b[1;32m      5\u001b[0m \u001b[38;5;28;01mfrom\u001b[39;00m \u001b[38;5;21;01msklearn\u001b[39;00m\u001b[38;5;21;01m.\u001b[39;00m\u001b[38;5;21;01mpreprocessing\u001b[39;00m \u001b[38;5;28;01mimport\u001b[39;00m MinMaxScaler\n\u001b[0;32m----> 6\u001b[0m \u001b[38;5;28;01mimport\u001b[39;00m \u001b[38;5;21;01mtensorflow\u001b[39;00m \u001b[38;5;28;01mas\u001b[39;00m \u001b[38;5;21;01mtf\u001b[39;00m\n\u001b[1;32m      7\u001b[0m \u001b[38;5;28;01mfrom\u001b[39;00m \u001b[38;5;21;01mtensorflow\u001b[39;00m\u001b[38;5;21;01m.\u001b[39;00m\u001b[38;5;21;01mkeras\u001b[39;00m \u001b[38;5;28;01mimport\u001b[39;00m layers, models\n\u001b[1;32m      8\u001b[0m \u001b[38;5;28;01mimport\u001b[39;00m \u001b[38;5;21;01mmatplotlib\u001b[39;00m\u001b[38;5;21;01m.\u001b[39;00m\u001b[38;5;21;01mpyplot\u001b[39;00m \u001b[38;5;28;01mas\u001b[39;00m \u001b[38;5;21;01mplt\u001b[39;00m\n",
      "\u001b[0;31mModuleNotFoundError\u001b[0m: No module named 'tensorflow'"
     ]
    }
   ],
   "source": [
    "import os\n",
    "import glob\n",
    "import numpy as np\n",
    "import pandas as pd\n",
    "from sklearn.preprocessing import MinMaxScaler\n",
    "import tensorflow as tf\n",
    "from tensorflow.keras import layers, models\n",
    "import matplotlib.pyplot as plt\n"
   ]
  },
  {
   "cell_type": "markdown",
   "metadata": {},
   "source": [
    "### Data Loading and Preprocessing"
   ]
  },
  {
   "cell_type": "code",
   "execution_count": null,
   "metadata": {},
   "outputs": [],
   "source": [
    "# Define the data directory\n",
    "data_dir = '/Users/Documents/seismic_detection/data/lunar/test/data/S12_GradeB'\n",
    "\n",
    "# Get all CSV files in the directory\n",
    "csv_files = glob.glob(os.path.join(data_dir, '*.csv'))\n",
    "\n",
    "data_list = []\n",
    "\n",
    "# Load each CSV file\n",
    "for file in csv_files:\n",
    "    df = pd.read_csv(file, delimiter='\\t')\n",
    "    data_list.append(df)\n",
    "\n",
    "# Concatenate all data into a single DataFrame\n",
    "data = pd.concat(data_list, ignore_index=True)\n",
    "\n",
    "# Extract the 'velocity(m/s)' column\n",
    "velocities = data['velocity(m/s)'].values\n",
    "\n",
    "# Normalize the data between 0 and 1\n",
    "scaler = MinMaxScaler()\n",
    "velocities_scaled = scaler.fit_transform(velocities.reshape(-1, 1))\n",
    "\n",
    "# Function to create sequences of a specified length\n",
    "def create_sequences(data, seq_length):\n",
    "    sequences = []\n",
    "    for i in range(len(data) - seq_length):\n",
    "        seq = data[i:i+seq_length]\n",
    "        sequences.append(seq)\n",
    "    return np.array(sequences)\n",
    "\n",
    "# Define the sequence length\n",
    "sequence_length = 100\n",
    "\n",
    "# Create sequences from the normalized data\n",
    "sequences = create_sequences(velocities_scaled, sequence_length)\n",
    "\n",
    "# Reshape sequences for LSTM input (samples, timesteps, features)\n",
    "X = sequences.reshape((sequences.shape[0], sequences.shape[1], 1))\n"
   ]
  },
  {
   "cell_type": "markdown",
   "metadata": {},
   "source": [
    "### Model Building"
   ]
  },
  {
   "cell_type": "code",
   "execution_count": null,
   "metadata": {},
   "outputs": [],
   "source": [
    "# Define the LSTM autoencoder model\n",
    "model = models.Sequential([\n",
    "    layers.LSTM(64, activation='relu', input_shape=(sequence_length, 1), return_sequences=True),\n",
    "    layers.LSTM(32, activation='relu', return_sequences=False),\n",
    "    layers.RepeatVector(sequence_length),\n",
    "    layers.LSTM(32, activation='relu', return_sequences=True),\n",
    "    layers.LSTM(64, activation='relu', return_sequences=True),\n",
    "    layers.TimeDistributed(layers.Dense(1))\n",
    "])\n",
    "\n",
    "# Compile the model\n",
    "model.compile(optimizer='adam', loss='mse')\n",
    "\n",
    "# Display the model architecture\n",
    "model.summary()"
   ]
  },
  {
   "cell_type": "markdown",
   "metadata": {},
   "source": [
    "### Model Training"
   ]
  },
  {
   "cell_type": "code",
   "execution_count": 2,
   "metadata": {},
   "outputs": [
    {
     "ename": "NameError",
     "evalue": "name 'model' is not defined",
     "output_type": "error",
     "traceback": [
      "\u001b[0;31m---------------------------------------------------------------------------\u001b[0m",
      "\u001b[0;31mNameError\u001b[0m                                 Traceback (most recent call last)",
      "Cell \u001b[0;32mIn[2], line 2\u001b[0m\n\u001b[1;32m      1\u001b[0m \u001b[38;5;66;03m# Train the model\u001b[39;00m\n\u001b[0;32m----> 2\u001b[0m history \u001b[38;5;241m=\u001b[39m \u001b[43mmodel\u001b[49m\u001b[38;5;241m.\u001b[39mfit(\n\u001b[1;32m      3\u001b[0m     X, X,\n\u001b[1;32m      4\u001b[0m     epochs\u001b[38;5;241m=\u001b[39m\u001b[38;5;241m10\u001b[39m,\n\u001b[1;32m      5\u001b[0m     batch_size\u001b[38;5;241m=\u001b[39m\u001b[38;5;241m64\u001b[39m,\n\u001b[1;32m      6\u001b[0m     validation_split\u001b[38;5;241m=\u001b[39m\u001b[38;5;241m0.1\u001b[39m\n\u001b[1;32m      7\u001b[0m )\n",
      "\u001b[0;31mNameError\u001b[0m: name 'model' is not defined"
     ]
    }
   ],
   "source": [
    "# Train the model\n",
    "history = model.fit(\n",
    "    X, X,\n",
    "    epochs=10,\n",
    "    batch_size=64,\n",
    "    validation_split=0.1\n",
    ")"
   ]
  },
  {
   "cell_type": "markdown",
   "metadata": {},
   "source": [
    "### Anomaly Detection"
   ]
  },
  {
   "cell_type": "code",
   "execution_count": null,
   "metadata": {},
   "outputs": [],
   "source": [
    "# Get the model's predictions\n",
    "X_pred = model.predict(X)\n",
    "\n",
    "# Calculate the reconstruction errors\n",
    "reconstruction_errors = np.mean(np.power(X - X_pred, 2), axis=(1, 2))\n",
    "\n",
    "# Set a threshold for anomaly detection\n",
    "threshold = np.mean(reconstruction_errors) + 3 * np.std(reconstruction_errors)\n",
    "\n",
    "# Identify anomalies\n",
    "anomalies = reconstruction_errors > threshold\n",
    "\n",
    "# Get the indices of the anomalous sequences\n",
    "anomaly_indices = np.where(anomalies)[0]\n",
    "\n",
    "# Print the number of anomalies detected\n",
    "print(f\"Detected {len(anomaly_indices)} anomalies out of {len(reconstruction_errors)} sequences.\")\n",
    "\n",
    "# Plot the reconstruction errors\n",
    "plt.figure(figsize=(10, 6))\n",
    "plt.plot(reconstruction_errors, label='Reconstruction Error')\n",
    "plt.hlines(threshold, xmin=0, xmax=len(reconstruction_errors), colors='r', linestyles='--', label='Threshold')\n",
    "plt.legend()\n",
    "plt.title('Reconstruction Error Over Time')\n",
    "plt.xlabel('Sequence Index')\n",
    "plt.ylabel('Reconstruction Error')\n",
    "plt.show()\n"
   ]
  }
 ],
 "metadata": {
  "kernelspec": {
   "display_name": "Python 3",
   "language": "python",
   "name": "python3"
  },
  "language_info": {
   "codemirror_mode": {
    "name": "ipython",
    "version": 3
   },
   "file_extension": ".py",
   "mimetype": "text/x-python",
   "name": "python",
   "nbconvert_exporter": "python",
   "pygments_lexer": "ipython3",
   "version": "3.11.4"
  }
 },
 "nbformat": 4,
 "nbformat_minor": 2
}
